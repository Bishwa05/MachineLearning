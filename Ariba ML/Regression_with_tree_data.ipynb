{
 "cells": [
  {
   "cell_type": "code",
   "execution_count": 6,
   "metadata": {},
   "outputs": [],
   "source": [
    "%matplotlib inline\n",
    "import matplotlib.pyplot as plt\n",
    "import csv\n",
    "import numpy as np\n",
    "datafile = '../numpy/trees.txt'"
   ]
  },
  {
   "cell_type": "code",
   "execution_count": 7,
   "metadata": {},
   "outputs": [
    {
     "name": "stdout",
     "output_type": "stream",
     "text": [
      "Index\tGirth\tHeight\tVolume\r\n",
      "1\t8.3\t70\t10.3\r\n",
      "2\t8.6\t65\t10.3\r\n",
      "3\t8.8\t63\t10.2\r\n",
      "4\t10.5\t72\t16.4\r\n",
      "5\t10.7\t81\t18.8\r\n",
      "6\t10.8\t83\t19.7\r\n",
      "7\t11\t66\t15.6\r\n",
      "8\t11\t75\t18.2\r\n",
      "9\t11.1\t80\t22.6\r\n"
     ]
    }
   ],
   "source": [
    "! head $datafile"
   ]
  },
  {
   "cell_type": "code",
   "execution_count": 8,
   "metadata": {},
   "outputs": [],
   "source": [
    "girths = []\n",
    "heights = []\n",
    "volumes = []\n",
    "\n",
    "with open(datafile, 'r') as csvfile:\n",
    "    reader = csv.DictReader(csvfile, delimiter='\\t')\n",
    "    \n",
    "    # skip the first line\n",
    "    \n",
    "    for row in reader:\n",
    "        girths.append(eval(row['Girth']))\n",
    "        heights.append(eval(row['Height']))\n",
    "        volumes.append(eval(row['Volume']))"
   ]
  },
  {
   "cell_type": "code",
   "execution_count": 9,
   "metadata": {},
   "outputs": [
    {
     "data": {
      "text/plain": [
       "31"
      ]
     },
     "execution_count": 9,
     "metadata": {},
     "output_type": "execute_result"
    }
   ],
   "source": [
    "len(heights)"
   ]
  },
  {
   "cell_type": "code",
   "execution_count": 10,
   "metadata": {},
   "outputs": [
    {
     "data": {
      "image/png": "[encoded data removed]",
      "text/plain": [
       "<matplotlib.figure.Figure at 0x11780c650>"
      ]
     },
     "metadata": {
      "needs_background": "light"
     },
     "output_type": "display_data"
    }
   ],
   "source": [
    "pos = [1, 2, 3]\n",
    "data = [girths, heights, volumes]\n",
    "plt.figure()\n",
    "plt.violinplot(data, pos, widths=0.5)\n",
    "\n",
    "my_xticks = ['Girths','Heights','Volumes']\n",
    "plt.xticks(pos, my_xticks, fontsize=15)\n",
    "\n",
    "\n",
    "\n",
    "plt.title(\"Cherry Tree Violin Plot\", fontsize=20)\n",
    "plt.ylabel(\"Value\", fontsize=10)\n",
    "plt.show()"
   ]
  },
  {
   "cell_type": "code",
   "execution_count": 11,
   "metadata": {
    "scrolled": true
   },
   "outputs": [
    {
     "data": {
      "image/png": "[encoded data removed]",
      "text/plain": [
       "<matplotlib.figure.Figure at 0x1178e2290>"
      ]
     },
     "metadata": {
      "needs_background": "light"
     },
     "output_type": "display_data"
    }
   ],
   "source": [
    "plt.figure()\n",
    "# plt.xkcd()\n",
    "plt.scatter(girths, volumes,)\n",
    "plt.xlabel(\"height\", fontsize=20)\n",
    "plt.ylabel(\"Volumes\", fontsize=20)\n",
    "plt.title(\"height versus Volumes of Cherry Trees\", fontsize=15)\n",
    "plt.show()"
   ]
  },
  {
   "cell_type": "code",
   "execution_count": 12,
   "metadata": {},
   "outputs": [],
   "source": [
    "# !head $datafile"
   ]
  },
  {
   "cell_type": "code",
   "execution_count": 13,
   "metadata": {},
   "outputs": [],
   "source": [
    "np_data = np.array([girths, heights])"
   ]
  },
  {
   "cell_type": "code",
   "execution_count": 14,
   "metadata": {},
   "outputs": [
    {
     "data": {
      "text/plain": [
       "(2, 31)"
      ]
     },
     "execution_count": 14,
     "metadata": {},
     "output_type": "execute_result"
    }
   ],
   "source": [
    "np_data.shape"
   ]
  },
  {
   "cell_type": "code",
   "execution_count": 15,
   "metadata": {},
   "outputs": [
    {
     "data": {
      "text/plain": [
       "array([ 8.3,  8.6,  8.8, 10.5, 10.7, 10.8, 11. , 11. , 11.1, 11.2, 11.3,\n",
       "       11.4, 11.4, 11.7, 12. , 12.9, 12.9, 13.3, 13.7, 13.8, 14. , 14.2,\n",
       "       14.5, 16. , 16.3, 17.3, 17.5, 17.9, 18. , 18. , 20.6])"
      ]
     },
     "execution_count": 15,
     "metadata": {},
     "output_type": "execute_result"
    }
   ],
   "source": [
    "np_data[0]"
   ]
  },
  {
   "cell_type": "code",
   "execution_count": 16,
   "metadata": {},
   "outputs": [
    {
     "data": {
      "text/plain": [
       "array([70., 65., 63., 72., 81., 83., 66., 75., 80., 75., 79., 76., 76.,\n",
       "       69., 75., 74., 85., 86., 71., 64., 78., 80., 74., 72., 77., 81.,\n",
       "       82., 80., 80., 80., 87.])"
      ]
     },
     "execution_count": 16,
     "metadata": {},
     "output_type": "execute_result"
    }
   ],
   "source": [
    "np_data[1]"
   ]
  },
  {
   "cell_type": "code",
   "execution_count": 17,
   "metadata": {},
   "outputs": [],
   "source": [
    "np_data = np_data.transpose()"
   ]
  },
  {
   "cell_type": "code",
   "execution_count": 18,
   "metadata": {},
   "outputs": [
    {
     "data": {
      "text/plain": [
       "(31, 2)"
      ]
     },
     "execution_count": 18,
     "metadata": {},
     "output_type": "execute_result"
    }
   ],
   "source": [
    "np_data.shape"
   ]
  },
  {
   "cell_type": "code",
   "execution_count": 19,
   "metadata": {
    "scrolled": true
   },
   "outputs": [
    {
     "data": {
      "text/plain": [
       "array([[ 8.3, 70. ],\n",
       "       [ 8.6, 65. ],\n",
       "       [ 8.8, 63. ],\n",
       "       [10.5, 72. ],\n",
       "       [10.7, 81. ],\n",
       "       [10.8, 83. ],\n",
       "       [11. , 66. ],\n",
       "       [11. , 75. ],\n",
       "       [11.1, 80. ],\n",
       "       [11.2, 75. ],\n",
       "       [11.3, 79. ],\n",
       "       [11.4, 76. ],\n",
       "       [11.4, 76. ],\n",
       "       [11.7, 69. ],\n",
       "       [12. , 75. ],\n",
       "       [12.9, 74. ],\n",
       "       [12.9, 85. ],\n",
       "       [13.3, 86. ],\n",
       "       [13.7, 71. ],\n",
       "       [13.8, 64. ],\n",
       "       [14. , 78. ],\n",
       "       [14.2, 80. ],\n",
       "       [14.5, 74. ],\n",
       "       [16. , 72. ],\n",
       "       [16.3, 77. ],\n",
       "       [17.3, 81. ],\n",
       "       [17.5, 82. ],\n",
       "       [17.9, 80. ],\n",
       "       [18. , 80. ],\n",
       "       [18. , 80. ],\n",
       "       [20.6, 87. ]])"
      ]
     },
     "execution_count": 19,
     "metadata": {},
     "output_type": "execute_result"
    }
   ],
   "source": [
    "np_data"
   ]
  },
  {
   "cell_type": "code",
   "execution_count": 20,
   "metadata": {},
   "outputs": [],
   "source": [
    "X = np_data"
   ]
  },
  {
   "cell_type": "code",
   "execution_count": 21,
   "metadata": {},
   "outputs": [
    {
     "data": {
      "text/plain": [
       "(31, 2)"
      ]
     },
     "execution_count": 21,
     "metadata": {},
     "output_type": "execute_result"
    }
   ],
   "source": [
    "X.shape"
   ]
  },
  {
   "cell_type": "code",
   "execution_count": 22,
   "metadata": {},
   "outputs": [],
   "source": [
    "y = np.array(volumes)"
   ]
  },
  {
   "cell_type": "code",
   "execution_count": 23,
   "metadata": {
    "scrolled": true
   },
   "outputs": [
    {
     "data": {
      "text/plain": [
       "(array([ 5., 10.,  4.,  4.,  2.,  0.,  4.,  1.,  0.,  1.]),\n",
       " array([10.2 , 16.88, 23.56, 30.24, 36.92, 43.6 , 50.28, 56.96, 63.64,\n",
       "        70.32, 77.  ]),\n",
       " <a list of 10 Patch objects>)"
      ]
     },
     "execution_count": 23,
     "metadata": {},
     "output_type": "execute_result"
    },
    {
     "data": {
      "image/png": "[encoded data removed]",
      "text/plain": [
       "<matplotlib.figure.Figure at 0x119a46510>"
      ]
     },
     "metadata": {
      "needs_background": "light"
     },
     "output_type": "display_data"
    }
   ],
   "source": [
    "plt.hist(y)"
   ]
  },
  {
   "cell_type": "code",
   "execution_count": 33,
   "metadata": {},
   "outputs": [],
   "source": [
    "from sklearn.linear_model import PassiveAggressiveRegressor\n",
    "from sklearn.svm import SVR\n",
    "reg = PassiveAggressiveRegressor()"
   ]
  },
  {
   "cell_type": "code",
   "execution_count": 34,
   "metadata": {},
   "outputs": [],
   "source": [
    "from sklearn.model_selection import train_test_split\n",
    "X_train, X_test, y_train, y_test = train_test_split(X, y)"
   ]
  },
  {
   "cell_type": "code",
   "execution_count": 35,
   "metadata": {},
   "outputs": [
    {
     "name": "stderr",
     "output_type": "stream",
     "text": [
      "/Users/rusty/.env/dev/lib/python2.7/site-packages/sklearn/linear_model/stochastic_gradient.py:128: FutureWarning: max_iter and tol parameters have been added in <class 'sklearn.linear_model.passive_aggressive.PassiveAggressiveRegressor'> in 0.19. If both are left unset, they default to max_iter=5 and tol=None. If tol is not None, max_iter defaults to max_iter=1000. From 0.21, default max_iter will be 1000, and default tol will be 1e-3.\n",
      "  \"and default tol will be 1e-3.\" % type(self), FutureWarning)\n"
     ]
    },
    {
     "data": {
      "text/plain": [
       "PassiveAggressiveRegressor(C=1.0, average=False, epsilon=0.1,\n",
       "              fit_intercept=True, loss='epsilon_insensitive',\n",
       "              max_iter=None, n_iter=None, random_state=None, shuffle=True,\n",
       "              tol=None, verbose=0, warm_start=False)"
      ]
     },
     "execution_count": 35,
     "metadata": {},
     "output_type": "execute_result"
    }
   ],
   "source": [
    "reg.fit(X_train, y_train)"
   ]
  },
  {
   "cell_type": "code",
   "execution_count": 36,
   "metadata": {},
   "outputs": [],
   "source": [
    "predicted = reg.predict(X_test)\n",
    "expected = y_test"
   ]
  },
  {
   "cell_type": "code",
   "execution_count": 37,
   "metadata": {},
   "outputs": [
    {
     "data": {
      "text/plain": [
       "array([24.7559169 , 21.09003078, 17.71462458, 18.42027961, 20.56421364,\n",
       "       22.15770377, 24.30007634, 21.3152185 ])"
      ]
     },
     "execution_count": 37,
     "metadata": {},
     "output_type": "execute_result"
    }
   ],
   "source": [
    "predicted"
   ]
  },
  {
   "cell_type": "code",
   "execution_count": 38,
   "metadata": {},
   "outputs": [
    {
     "data": {
      "text/plain": [
       "array([27.4, 24.9, 10.3, 10.3, 21.3, 22.6, 33.8, 19.9])"
      ]
     },
     "execution_count": 38,
     "metadata": {},
     "output_type": "execute_result"
    }
   ],
   "source": [
    "expected"
   ]
  },
  {
   "cell_type": "code",
   "execution_count": 28,
   "metadata": {},
   "outputs": [
    {
     "data": {
      "text/plain": [
       "8"
      ]
     },
     "execution_count": 28,
     "metadata": {},
     "output_type": "execute_result"
    }
   ],
   "source": [
    "plt.scatter(expected, predicted)\n",
    "plt.plot([0, 100], [0, 100], '-o')\n",
    "plt.axis('tight')\n",
    "plt.xlabel('True volume ')\n",
    "plt.ylabel('Predicted volume ')\n",
    "print \"RMS:\", np.sqrt(np.mean((predicted - expected) ** 2))"
   ]
  },
  {
   "cell_type": "code",
   "execution_count": 29,
   "metadata": {},
   "outputs": [
    {
     "name": "stdout",
     "output_type": "stream",
     "text": [
      "53.187139372566364\n",
      "51.0\n"
     ]
    }
   ],
   "source": [
    "print predicted[0]\n",
    "print expected[0]"
   ]
  },
  {
   "cell_type": "code",
   "execution_count": 30,
   "metadata": {},
   "outputs": [
    {
     "name": "stdout",
     "output_type": "stream",
     "text": [
      "RMS: 4.5467824585935315\n"
     ]
    },
    {
     "data": {
      "image/png": "[encoded data removed]",
      "text/plain": [
       "<matplotlib.figure.Figure at 0x110bbd910>"
      ]
     },
     "metadata": {
      "needs_background": "light"
     },
     "output_type": "display_data"
    }
   ],
   "source": [
    "plt.scatter(expected, predicted)\n",
    "plt.plot([0, 100], [0, 100], '-o')\n",
    "plt.axis('tight')\n",
    "plt.xlabel('True volume ')\n",
    "plt.ylabel('Predicted volume ')\n",
    "print \"RMS:\", np.sqrt(np.mean((predicted - expected) ** 2))"
   ]
  },
  {
   "cell_type": "code",
   "execution_count": 31,
   "metadata": {},
   "outputs": [],
   "source": [
    "plt.plot?"
   ]
  },
  {
   "cell_type": "code",
   "execution_count": 21,
   "metadata": {},
   "outputs": [
    {
     "data": {
      "text/plain": [
       "LinearRegression(copy_X=True, fit_intercept=True, n_jobs=1, normalize=False)"
      ]
     },
     "execution_count": 21,
     "metadata": {},
     "output_type": "execute_result"
    }
   ],
   "source": [
    "from sklearn.linear_model import LinearRegression\n",
    "\n",
    "reg = LinearRegression()\n",
    "\n",
    "\n",
    "reg.fit(X_train, y_train)"
   ]
  },
  {
   "cell_type": "code",
   "execution_count": 58,
   "metadata": {
    "collapsed": true
   },
   "outputs": [],
   "source": [
    "predicted = reg.predict(X_test)\n",
    "expected = y_test"
   ]
  },
  {
   "cell_type": "code",
   "execution_count": 60,
   "metadata": {},
   "outputs": [
    {
     "name": "stdout",
     "output_type": "stream",
     "text": [
      "predicted \n",
      "[  6.11530739  20.37503691  32.77413117  49.73053805  21.54154079\n",
      "  20.02243659  16.44307681  21.54154079]\n"
     ]
    }
   ],
   "source": [
    "print \"predicted \\n\", predicted"
   ]
  },
  {
   "cell_type": "code",
   "execution_count": 61,
   "metadata": {},
   "outputs": [
    {
     "name": "stdout",
     "output_type": "stream",
     "text": [
      "expected \n",
      "[ 10.3  19.9  27.4  55.7  21.4  18.8  16.4  21. ]\n"
     ]
    }
   ],
   "source": [
    "print \"expected \\n\", expected"
   ]
  },
  {
   "cell_type": "code",
   "execution_count": 23,
   "metadata": {},
   "outputs": [
    {
     "name": "stdout",
     "output_type": "stream",
     "text": [
      "RMS: 2.01472994823\n"
     ]
    },
    {
     "data": {
      "image/png": "[encoded data removed]",
      "text/plain": [
       "<matplotlib.figure.Figure at 0x10d84ef50>"
      ]
     },
     "metadata": {},
     "output_type": "display_data"
    }
   ],
   "source": [
    "plt.scatter(expected, predicted)\n",
    "plt.plot([0, 50], [0, 50], '-k')\n",
    "plt.axis('tight')\n",
    "plt.xlabel('True volume ')\n",
    "plt.ylabel('Predicted volume ')\n",
    "print \"RMS:\", np.sqrt(np.mean((predicted - expected) ** 2))"
   ]
  },
  {
   "cell_type": "code",
   "execution_count": null,
   "metadata": {
    "collapsed": true
   },
   "outputs": [],
   "source": []
  }
 ],
 "metadata": {
  "kernelspec": {
   "display_name": "Python 2",
   "language": "python",
   "name": "python2"
  },
  "language_info": {
   "codemirror_mode": {
    "name": "ipython",
    "version": 2
   },
   "file_extension": ".py",
   "mimetype": "text/x-python",
   "name": "python",
   "nbconvert_exporter": "python",
   "pygments_lexer": "ipython2",
   "version": "2.7.10"
  }
 },
 "nbformat": 4,
 "nbformat_minor": 2
}
