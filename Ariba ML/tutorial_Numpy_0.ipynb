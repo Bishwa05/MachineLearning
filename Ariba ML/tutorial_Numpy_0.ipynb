{
 "cells": [
  {
   "cell_type": "markdown",
   "metadata": {},
   "source": [
    "## Numpy( why )"
   ]
  },
  {
   "cell_type": "markdown",
   "metadata": {},
   "source": [
    "numpy also has its own convenient functions for __quickly making arrays of values__. \n",
    "\n",
    "`np.arange(min, max, step)` makes a list of values from min to max (not inclusive), adding by \"sep\" each time.\n",
    "\n",
    "`np.linspace(min, max, num_points)` makes a list of num_points values from min to max (not inclusive)"
   ]
  },
  {
   "cell_type": "code",
   "execution_count": 3,
   "metadata": {},
   "outputs": [
    {
     "name": "stdout",
     "output_type": "stream",
     "text": [
      "Populating the interactive namespace from numpy and matplotlib\n"
     ]
    }
   ],
   "source": [
    "%pylab inline"
   ]
  },
  {
   "cell_type": "code",
   "execution_count": 1,
   "metadata": {},
   "outputs": [],
   "source": [
    "import numpy as np"
   ]
  },
  {
   "cell_type": "code",
   "execution_count": 51,
   "metadata": {},
   "outputs": [
    {
     "data": {
      "text/plain": [
       "0.12815860227007228"
      ]
     },
     "execution_count": 51,
     "metadata": {},
     "output_type": "execute_result"
    }
   ],
   "source": [
    "np.random.normal(0, 1)"
   ]
  },
  {
   "cell_type": "code",
   "execution_count": 52,
   "metadata": {
    "scrolled": true
   },
   "outputs": [
    {
     "name": "stdout",
     "output_type": "stream",
     "text": [
      "CPU times: user 20.8 s, sys: 366 ms, total: 21.1 s\n",
      "Wall time: 21.3 s\n"
     ]
    }
   ],
   "source": [
    "%%time\n",
    "length = 10000000\n",
    "res = []\n",
    "for i in range(length):\n",
    "    res.append(np.random.normal(0, 1))"
   ]
  },
  {
   "cell_type": "code",
   "execution_count": 54,
   "metadata": {},
   "outputs": [
    {
     "data": {
      "text/plain": [
       "[-0.7116807942184739,\n",
       " -0.22450511140570684,\n",
       " -0.15550304404206677,\n",
       " 0.867957079977315,\n",
       " -0.8289514602100025]"
      ]
     },
     "execution_count": 54,
     "metadata": {},
     "output_type": "execute_result"
    }
   ],
   "source": [
    "res[:5]"
   ]
  },
  {
   "cell_type": "code",
   "execution_count": 55,
   "metadata": {},
   "outputs": [
    {
     "data": {
      "text/plain": [
       "list"
      ]
     },
     "execution_count": 55,
     "metadata": {},
     "output_type": "execute_result"
    }
   ],
   "source": [
    "type(res)"
   ]
  },
  {
   "cell_type": "code",
   "execution_count": 56,
   "metadata": {},
   "outputs": [
    {
     "data": {
      "text/plain": [
       "10000000"
      ]
     },
     "execution_count": 56,
     "metadata": {},
     "output_type": "execute_result"
    }
   ],
   "source": [
    "len(res)"
   ]
  },
  {
   "cell_type": "code",
   "execution_count": 57,
   "metadata": {},
   "outputs": [
    {
     "name": "stdout",
     "output_type": "stream",
     "text": [
      "CPU times: user 354 ms, sys: 3.29 ms, total: 357 ms\n",
      "Wall time: 358 ms\n"
     ]
    }
   ],
   "source": [
    "%%time\n",
    "np_list = np.random.normal(0, 1, length)"
   ]
  },
  {
   "cell_type": "code",
   "execution_count": 58,
   "metadata": {},
   "outputs": [
    {
     "data": {
      "text/plain": [
       "10000000"
      ]
     },
     "execution_count": 58,
     "metadata": {},
     "output_type": "execute_result"
    }
   ],
   "source": [
    "len(np_list)"
   ]
  },
  {
   "cell_type": "code",
   "execution_count": 59,
   "metadata": {},
   "outputs": [
    {
     "data": {
      "text/plain": [
       "numpy.ndarray"
      ]
     },
     "execution_count": 59,
     "metadata": {},
     "output_type": "execute_result"
    }
   ],
   "source": [
    "type(np_list)"
   ]
  },
  {
   "cell_type": "code",
   "execution_count": 61,
   "metadata": {},
   "outputs": [
    {
     "data": {
      "text/plain": [
       "array([ 0.22058147, -0.40783484, -0.77225614, -0.72510721, -0.34580305])"
      ]
     },
     "execution_count": 61,
     "metadata": {},
     "output_type": "execute_result"
    }
   ],
   "source": [
    "np_list[:5]"
   ]
  },
  {
   "cell_type": "code",
   "execution_count": 42,
   "metadata": {},
   "outputs": [
    {
     "name": "stdout",
     "output_type": "stream",
     "text": [
      "\n",
      "Time to create long random list using numpy function\n",
      "CPU times: user 423 ms, sys: 60.8 ms, total: 484 ms\n",
      "Wall time: 504 ms\n"
     ]
    }
   ],
   "source": [
    "print \"\\nTime to create long random list using numpy function\"\n",
    "%time np_long_random_list = np.random.normal(0,1, length)"
   ]
  },
  {
   "cell_type": "code",
   "execution_count": 42,
   "metadata": {},
   "outputs": [
    {
     "data": {
      "text/plain": [
       "numpy.ndarray"
      ]
     },
     "execution_count": 42,
     "metadata": {},
     "output_type": "execute_result"
    }
   ],
   "source": [
    "type(np_long_random_list)"
   ]
  },
  {
   "cell_type": "code",
   "execution_count": 43,
   "metadata": {},
   "outputs": [
    {
     "data": {
      "text/plain": [
       "10000000"
      ]
     },
     "execution_count": 43,
     "metadata": {},
     "output_type": "execute_result"
    }
   ],
   "source": [
    "len(res)"
   ]
  },
  {
   "cell_type": "code",
   "execution_count": 44,
   "metadata": {},
   "outputs": [
    {
     "data": {
      "text/plain": [
       "10000000"
      ]
     },
     "execution_count": 44,
     "metadata": {},
     "output_type": "execute_result"
    }
   ],
   "source": [
    "len(np_long_random_list)"
   ]
  },
  {
   "cell_type": "code",
   "execution_count": 11,
   "metadata": {},
   "outputs": [
    {
     "data": {
      "text/plain": [
       "array([ 0.68992456, -0.98179619, -0.42184928,  0.4799481 , -1.05298978,\n",
       "        0.12233386,  0.43645911,  0.37120121,  2.4503524 ,  0.32377982])"
      ]
     },
     "execution_count": 11,
     "metadata": {},
     "output_type": "execute_result"
    }
   ],
   "source": [
    "np_long_random_list[0:10]"
   ]
  },
  {
   "cell_type": "code",
   "execution_count": 9,
   "metadata": {},
   "outputs": [
    {
     "data": {
      "text/plain": [
       "numpy.ndarray"
      ]
     },
     "execution_count": 9,
     "metadata": {},
     "output_type": "execute_result"
    }
   ],
   "source": [
    "type(np_long_random_list)"
   ]
  },
  {
   "cell_type": "code",
   "execution_count": 3,
   "metadata": {},
   "outputs": [
    {
     "data": {
      "text/plain": [
       "array([ 0.21839078, -0.94884362, -1.71426954, -0.04085854,  0.7586111 ,\n",
       "       -0.30818951, -0.09596724, -0.0830166 , -0.19698686,  0.58213493])"
      ]
     },
     "execution_count": 3,
     "metadata": {},
     "output_type": "execute_result"
    }
   ],
   "source": [
    "np_long_random_list[:10]"
   ]
  },
  {
   "cell_type": "code",
   "execution_count": 63,
   "metadata": {},
   "outputs": [
    {
     "name": "stdout",
     "output_type": "stream",
     "text": [
      "\n",
      "Time to add one number to every element of a long random list, list comprehensions \n",
      "CPU times: user 1.42 s, sys: 583 ms, total: 2.01 s\n",
      "Wall time: 2.15 s\n",
      "\n",
      "Time to add one number to every element of a long random list, using numpy \n",
      "CPU times: user 28.4 ms, sys: 37.6 ms, total: 66 ms\n",
      "Wall time: 65.4 ms\n"
     ]
    }
   ],
   "source": [
    "print \"\\nTime to add one number to every element of a long random list, list comprehensions \"\n",
    "%time add_list = [i + 4 for i in res]\n",
    "\n",
    "print \"\\nTime to add one number to every element of a long random list, using numpy \"\n",
    "%time np_add_list = 4 + np_list"
   ]
  },
  {
   "cell_type": "code",
   "execution_count": 15,
   "metadata": {},
   "outputs": [
    {
     "data": {
      "text/plain": [
       "list"
      ]
     },
     "execution_count": 15,
     "metadata": {},
     "output_type": "execute_result"
    }
   ],
   "source": [
    "type(long_random_list)"
   ]
  },
  {
   "cell_type": "code",
   "execution_count": 14,
   "metadata": {},
   "outputs": [
    {
     "data": {
      "text/plain": [
       "numpy.ndarray"
      ]
     },
     "execution_count": 14,
     "metadata": {},
     "output_type": "execute_result"
    }
   ],
   "source": [
    "type(np_long_random_list)"
   ]
  },
  {
   "cell_type": "code",
   "execution_count": 13,
   "metadata": {},
   "outputs": [
    {
     "name": "stdout",
     "output_type": "stream",
     "text": [
      "\n",
      "Time to multiply one number to every element of a long random list, list comprehensions \n",
      "CPU times: user 1.13 s, sys: 82.7 ms, total: 1.21 s\n",
      "Wall time: 1.23 s\n",
      "\n",
      "Time to multiply one number to every element of a long random list, using numpy \n",
      "CPU times: user 16.7 ms, sys: 32.3 ms, total: 49.1 ms\n",
      "Wall time: 50.7 ms\n"
     ]
    }
   ],
   "source": [
    "print \"\\nTime to multiply one number to every element of a long random list, list comprehensions \"\n",
    "%time add_list = [i * 4 for i in long_random_list]\n",
    "\n",
    "print \"\\nTime to multiply one number to every element of a long random list, using numpy \"\n",
    "%time np_add_list = 4 * np_long_random_list"
   ]
  },
  {
   "cell_type": "code",
   "execution_count": null,
   "metadata": {
    "collapsed": true
   },
   "outputs": [],
   "source": [
    "%%time"
   ]
  },
  {
   "cell_type": "markdown",
   "metadata": {},
   "source": [
    "### Add Lists "
   ]
  },
  {
   "cell_type": "code",
   "execution_count": 58,
   "metadata": {},
   "outputs": [],
   "source": [
    "# long_random_list2 =  [np.random.normal(0, 1) for i in range(length)]\n",
    "# np_long_random_list2 = np.random.normal(0, 1, length)\n",
    "\n",
    "# print \"Time to add two lists using list comprehensions\"\n",
    "# %time a = [long_random_list[i] + long_random_list2[i] for i in range(length)]\n",
    "\n",
    "# # To add all the elements of two arrays, just use addition! No list comprehension needed.\n",
    "\n",
    "# print \"Time to add two lists using numpy\"\n",
    "# %time np_long_random_list + np_long_random_list2\n",
    "\n",
    "# print \"Done\""
   ]
  },
  {
   "cell_type": "markdown",
   "metadata": {},
   "source": [
    "# Better than Lists"
   ]
  },
  {
   "cell_type": "markdown",
   "metadata": {},
   "source": [
    "The `where` function also makes it easy to find the indices in numpy that satisfy a certain criterion. \n",
    "\n",
    "Below, the criterion is which numbers are greater than 5 standard deviations away from the center of a normal distribution."
   ]
  },
  {
   "cell_type": "code",
   "execution_count": 15,
   "metadata": {},
   "outputs": [
    {
     "name": "stdout",
     "output_type": "stream",
     "text": [
      "The indices where the long random list is above threshold are:  []\n",
      "CPU times: user 3.28 s, sys: 73.8 ms, total: 3.36 s\n",
      "Wall time: 3.43 s\n",
      "The indices where the long random list is above threshold are:  (array([], dtype=int64),)\n",
      "CPU times: user 10.2 ms, sys: 4.63 ms, total: 14.8 ms\n",
      "Wall time: 14.8 ms\n"
     ]
    }
   ],
   "source": [
    "threshold = 5\n",
    "length = 10000000\n",
    "long_random_list = np.random.binomial(0, 1, length)\n",
    "\n",
    "%time print \"The indices where the long random list is above threshold are: \", [i for i in range(length) if long_random_list[i] > threshold]\n",
    "\n",
    "%time print \"The indices where the long random list is above threshold are: \", np.where(long_random_list > threshold)"
   ]
  },
  {
   "cell_type": "code",
   "execution_count": 1,
   "metadata": {},
   "outputs": [],
   "source": [
    "%matplotlib inline\n",
    "import matplotlib.pyplot as plt\n",
    "import csv\n",
    "import numpy as np\n",
    "datafile = 'trees.txt'"
   ]
  },
  {
   "cell_type": "code",
   "execution_count": 2,
   "metadata": {},
   "outputs": [
    {
     "name": "stdout",
     "output_type": "stream",
     "text": [
      "Index\tGirth\tHeight\tVolume\r\n",
      "1\t8.3\t70\t10.3\r\n",
      "2\t8.6\t65\t10.3\r\n",
      "3\t8.8\t63\t10.2\r\n",
      "4\t10.5\t72\t16.4\r\n",
      "5\t10.7\t81\t18.8\r\n",
      "6\t10.8\t83\t19.7\r\n",
      "7\t11\t66\t15.6\r\n",
      "8\t11\t75\t18.2\r\n",
      "9\t11.1\t80\t22.6\r\n"
     ]
    }
   ],
   "source": [
    "!head $datafile"
   ]
  },
  {
   "cell_type": "markdown",
   "metadata": {},
   "source": [
    "The `csv.reader` function just reads every line into a list.\n",
    "The `eval` function takes a string and converts it to a corresponding time. For example\n",
    "```python\n",
    "eval(\"3.0\") = 3.0\n",
    "eval(\"-2\") = -2\n",
    "eval(\"[5,6,7,8]\") = [5,6,7,8]\n",
    "```"
   ]
  },
  {
   "cell_type": "code",
   "execution_count": 3,
   "metadata": {},
   "outputs": [
    {
     "name": "stderr",
     "output_type": "stream",
     "text": [
      "/anaconda3/lib/python3.7/site-packages/ipykernel_launcher.py:5: DeprecationWarning: 'U' mode is deprecated\n",
      "  \"\"\"\n"
     ]
    }
   ],
   "source": [
    "girths = []\n",
    "heights = []\n",
    "volumes = []\n",
    "\n",
    "with open(datafile, 'rU') as csvfile:\n",
    "    reader = csv.DictReader(csvfile, delimiter='\\t')\n",
    "    \n",
    "    # skip the first line\n",
    "    \n",
    "    for row in reader:\n",
    "        girths.append(eval(row['Girth']))\n",
    "        heights.append(eval(row['Height']))\n",
    "        volumes.append(eval(row['Volume']))"
   ]
  },
  {
   "cell_type": "code",
   "execution_count": 4,
   "metadata": {},
   "outputs": [
    {
     "name": "stdout",
     "output_type": "stream",
     "text": [
      "Girths:  [8.3, 8.6, 8.8, 10.5, 10.7, 10.8, 11, 11, 11.1, 11.2]\n",
      "Heights:  [70, 65, 63, 72, 81, 83, 66, 75, 80, 75]\n",
      "Volumes:  [10.3, 10.3, 10.2, 16.4, 18.8, 19.7, 15.6, 18.2, 22.6, 19.9]\n"
     ]
    }
   ],
   "source": [
    "print(\"Girths: \", girths[0:10])\n",
    "print(\"Heights: \", heights[0:10])\n",
    "print(\"Volumes: \", volumes[0:10])"
   ]
  },
  {
   "cell_type": "code",
   "execution_count": 50,
   "metadata": {},
   "outputs": [
    {
     "data": {
      "text/plain": [
       "31"
      ]
     },
     "execution_count": 50,
     "metadata": {},
     "output_type": "execute_result"
    }
   ],
   "source": [
    "len(heights)"
   ]
  },
  {
   "cell_type": "code",
   "execution_count": 5,
   "metadata": {},
   "outputs": [
    {
     "name": "stdout",
     "output_type": "stream",
     "text": [
      "Mean of girths is  13.248387096774195\n",
      "Median of girths is  12.9\n",
      "Standard deviation of girths is  3.087108571791257\n",
      "25th percentile of girths is  11.05\n",
      "10 is at the following percentile in girths: 9.67741935483871\n"
     ]
    }
   ],
   "source": [
    "print(\"Mean of girths is \", np.mean(girths))\n",
    "print(\"Median of girths is \", np.median(girths))\n",
    "print(\"Standard deviation of girths is \", np.std(girths))\n",
    "print(\"25th percentile of girths is \", np.percentile(girths, 25))\n",
    "\n",
    "from scipy import stats\n",
    "print(\"10 is at the following percentile in girths:\", stats.percentileofscore(girths, 10))"
   ]
  },
  {
   "cell_type": "code",
   "execution_count": 6,
   "metadata": {},
   "outputs": [
    {
     "data": {
      "image/png": "[encoded data removed]",
      "text/plain": [
       "<Figure size 576x432 with 1 Axes>"
      ]
     },
     "metadata": {
      "needs_background": "light"
     },
     "output_type": "display_data"
    }
   ],
   "source": [
    "%matplotlib inline\n",
    "\n",
    "bins = range(0,100,5)\n",
    "plt.figure(figsize=(8, 6)) # Calling \"figure\" creates a new figure. The command inside controls the figure size, in inches\n",
    "\n",
    "\n",
    "plt.hist(girths, bins=bins, color='red', alpha=1.0/3, label='Girths')\n",
    "plt.hist(heights, bins=bins, color='green', alpha=1.0/3, label='Heights')\n",
    "plt.hist(volumes, bins=bins, color='blue', alpha=1.0/3, label = 'Volumes')\n",
    "\n",
    "\n",
    "\n",
    "\n",
    "\n",
    "\n",
    "\n",
    "\n",
    "plt.legend()\n",
    "plt.title(\"Cherry Tree Counts\", fontsize=20)\n",
    "plt.xlabel(\"Measurement\", fontsize=20)\n",
    "plt.ylabel(\"Counts\", fontsize=20)\n",
    "plt.show() #This shows the figure"
   ]
  },
  {
   "cell_type": "code",
   "execution_count": 7,
   "metadata": {},
   "outputs": [
    {
     "data": {
      "image/png": "[encoded data removed]",
      "text/plain": [
       "<Figure size 432x288 with 1 Axes>"
      ]
     },
     "metadata": {
      "needs_background": "light"
     },
     "output_type": "display_data"
    }
   ],
   "source": [
    "pos = [1, 2, 3]\n",
    "data = [girths, heights, volumes]\n",
    "plt.figure()\n",
    "plt.violinplot(data, pos, widths=0.5)\n",
    "\n",
    "my_xticks = ['Girths','Heights','Volumes']\n",
    "plt.xticks(pos, my_xticks, fontsize=15)\n",
    "\n",
    "\n",
    "\n",
    "plt.title(\"Cherry Tree Violin Plot\", fontsize=20)\n",
    "plt.ylabel(\"Value\", fontsize=20)\n",
    "plt.show()"
   ]
  },
  {
   "cell_type": "code",
   "execution_count": 8,
   "metadata": {},
   "outputs": [
    {
     "data": {
      "image/png": "[encoded data removed]",
      "text/plain": [
       "<Figure size 432x288 with 1 Axes>"
      ]
     },
     "metadata": {
      "needs_background": "light"
     },
     "output_type": "display_data"
    }
   ],
   "source": [
    "plt.figure()\n",
    "# plt.xkcd()\n",
    "plt.scatter(heights, volumes)\n",
    "plt.xlabel(\"heights\", fontsize=20)\n",
    "plt.ylabel(\"Volumes\", fontsize=20)\n",
    "plt.title(\"heights versus Volumes of Cherry Trees\", fontsize=15)\n",
    "plt.show()"
   ]
  },
  {
   "cell_type": "code",
   "execution_count": 9,
   "metadata": {},
   "outputs": [
    {
     "data": {
      "image/png": "[encoded data removed]",
      "text/plain": [
       "<Figure size 432x288 with 1 Axes>"
      ]
     },
     "metadata": {
      "needs_background": "light"
     },
     "output_type": "display_data"
    }
   ],
   "source": [
    "plt.figure()\n",
    "# plt.xkcd()\n",
    "plt.scatter(girths, volumes)\n",
    "plt.xlabel(\"girths\", fontsize=20)\n",
    "plt.ylabel(\"Volumes\", fontsize=20)\n",
    "plt.title(\"girths versus Volumes of Cherry Trees\", fontsize=15)\n",
    "plt.show()"
   ]
  },
  {
   "cell_type": "code",
   "execution_count": 10,
   "metadata": {},
   "outputs": [
    {
     "data": {
      "image/png": "[encoded data removed]",
      "text/plain": [
       "<Figure size 432x288 with 1 Axes>"
      ]
     },
     "metadata": {
      "needs_background": "light"
     },
     "output_type": "display_data"
    }
   ],
   "source": [
    "from mpl_toolkits.mplot3d import Axes3D\n",
    "import matplotlib.pyplot as plt\n",
    "import numpy as np\n",
    "\n",
    "# plt.xkcd()\n",
    "# # Fixing random state for reproducibility\n",
    "# np.random.seed(19680801)\n",
    "\n",
    "\n",
    "# def randrange(n, vmin, vmax):\n",
    "#     '''\n",
    "#     Helper function to make an array of random numbers having shape (n, )\n",
    "#     with each number distributed Uniform(vmin, vmax).\n",
    "#     '''\n",
    "#     return (vmax - vmin)*np.random.rand(n) + vmin\n",
    "\n",
    "fig = plt.figure()\n",
    "ax = fig.add_subplot(111, projection='3d')\n",
    "\n",
    "n = 100\n",
    "\n",
    "# For each set of style and range settings, plot n random points in the box\n",
    "# defined by x in [23, 32], y in [0, 100], z in [zlow, zhigh].\n",
    "for c, m, zlow, zhigh in [('r', 'o', -50, -25), ('b', '^', -30, -5)]:\n",
    "    xs = heights\n",
    "    ys = volumes\n",
    "    zs = girths\n",
    "    ax.scatter(xs, ys, zs, c=c, marker=m)\n",
    "\n",
    "ax.set_xlabel('Height')\n",
    "ax.set_ylabel('Volume')\n",
    "ax.set_zlabel('Girths')\n",
    "\n",
    "plt.show()"
   ]
  },
  {
   "cell_type": "code",
   "execution_count": 12,
   "metadata": {},
   "outputs": [
    {
     "name": "stdout",
     "output_type": "stream",
     "text": [
      "Correlation matrix is  0.5982496519917821\n",
      "Correlation Coefficient is  0.9671193682556305\n"
     ]
    }
   ],
   "source": [
    "print(\"Correlation matrix is \", np.corrcoef(heights, volumes)[0][1])\n",
    "print (\"Correlation Coefficient is \", np.corrcoef(girths, volumes)[0][1])"
   ]
  },
  {
   "cell_type": "code",
   "execution_count": 18,
   "metadata": {},
   "outputs": [],
   "source": [
    "np_data = np.array([girths,heights])"
   ]
  },
  {
   "cell_type": "code",
   "execution_count": 19,
   "metadata": {
    "scrolled": true
   },
   "outputs": [
    {
     "data": {
      "text/plain": [
       "(2, 31)"
      ]
     },
     "execution_count": 19,
     "metadata": {},
     "output_type": "execute_result"
    }
   ],
   "source": [
    "np_data.shape"
   ]
  },
  {
   "cell_type": "code",
   "execution_count": 20,
   "metadata": {},
   "outputs": [
    {
     "data": {
      "text/plain": [
       "array([[ 8.3,  8.6,  8.8, 10.5, 10.7, 10.8, 11. , 11. , 11.1, 11.2, 11.3,\n",
       "        11.4, 11.4, 11.7, 12. , 12.9, 12.9, 13.3, 13.7, 13.8, 14. , 14.2,\n",
       "        14.5, 16. , 16.3, 17.3, 17.5, 17.9, 18. , 18. , 20.6],\n",
       "       [70. , 65. , 63. , 72. , 81. , 83. , 66. , 75. , 80. , 75. , 79. ,\n",
       "        76. , 76. , 69. , 75. , 74. , 85. , 86. , 71. , 64. , 78. , 80. ,\n",
       "        74. , 72. , 77. , 81. , 82. , 80. , 80. , 80. , 87. ]])"
      ]
     },
     "execution_count": 20,
     "metadata": {},
     "output_type": "execute_result"
    }
   ],
   "source": [
    "np_data"
   ]
  },
  {
   "cell_type": "code",
   "execution_count": 21,
   "metadata": {},
   "outputs": [],
   "source": [
    "np_data= np_data.transpose()"
   ]
  },
  {
   "cell_type": "code",
   "execution_count": 22,
   "metadata": {},
   "outputs": [
    {
     "data": {
      "text/plain": [
       "(31, 2)"
      ]
     },
     "execution_count": 22,
     "metadata": {},
     "output_type": "execute_result"
    }
   ],
   "source": [
    "np_data.shape"
   ]
  },
  {
   "cell_type": "code",
   "execution_count": 23,
   "metadata": {},
   "outputs": [
    {
     "data": {
      "text/plain": [
       "array([[ 8.3, 70. ],\n",
       "       [ 8.6, 65. ],\n",
       "       [ 8.8, 63. ],\n",
       "       [10.5, 72. ],\n",
       "       [10.7, 81. ],\n",
       "       [10.8, 83. ],\n",
       "       [11. , 66. ],\n",
       "       [11. , 75. ],\n",
       "       [11.1, 80. ],\n",
       "       [11.2, 75. ],\n",
       "       [11.3, 79. ],\n",
       "       [11.4, 76. ],\n",
       "       [11.4, 76. ],\n",
       "       [11.7, 69. ],\n",
       "       [12. , 75. ],\n",
       "       [12.9, 74. ],\n",
       "       [12.9, 85. ],\n",
       "       [13.3, 86. ],\n",
       "       [13.7, 71. ],\n",
       "       [13.8, 64. ],\n",
       "       [14. , 78. ],\n",
       "       [14.2, 80. ],\n",
       "       [14.5, 74. ],\n",
       "       [16. , 72. ],\n",
       "       [16.3, 77. ],\n",
       "       [17.3, 81. ],\n",
       "       [17.5, 82. ],\n",
       "       [17.9, 80. ],\n",
       "       [18. , 80. ],\n",
       "       [18. , 80. ],\n",
       "       [20.6, 87. ]])"
      ]
     },
     "execution_count": 23,
     "metadata": {},
     "output_type": "execute_result"
    }
   ],
   "source": [
    "np_data"
   ]
  },
  {
   "cell_type": "code",
   "execution_count": 26,
   "metadata": {},
   "outputs": [],
   "source": [
    "# we need to send only array of vectors"
   ]
  },
  {
   "cell_type": "code",
   "execution_count": 41,
   "metadata": {},
   "outputs": [],
   "source": [
    "y = np.array([volumes])"
   ]
  },
  {
   "cell_type": "code",
   "execution_count": 27,
   "metadata": {},
   "outputs": [
    {
     "data": {
      "text/plain": [
       "(1, 31)"
      ]
     },
     "execution_count": 27,
     "metadata": {},
     "output_type": "execute_result"
    }
   ],
   "source": [
    "y.shape"
   ]
  },
  {
   "cell_type": "code",
   "execution_count": 42,
   "metadata": {},
   "outputs": [],
   "source": [
    "y = y.transpose()"
   ]
  },
  {
   "cell_type": "code",
   "execution_count": 29,
   "metadata": {},
   "outputs": [
    {
     "data": {
      "text/plain": [
       "(array([ 5., 10.,  4.,  4.,  2.,  0.,  4.,  1.,  0.,  1.]),\n",
       " array([10.2 , 16.88, 23.56, 30.24, 36.92, 43.6 , 50.28, 56.96, 63.64,\n",
       "        70.32, 77.  ]),\n",
       " <a list of 10 Patch objects>)"
      ]
     },
     "execution_count": 29,
     "metadata": {},
     "output_type": "execute_result"
    },
    {
     "data": {
      "image/png": "[encoded data removed]",
      "text/plain": [
       "<Figure size 432x288 with 1 Axes>"
      ]
     },
     "metadata": {
      "needs_background": "light"
     },
     "output_type": "display_data"
    }
   ],
   "source": [
    "plt.hist(y)"
   ]
  },
  {
   "cell_type": "code",
   "execution_count": 31,
   "metadata": {},
   "outputs": [],
   "source": [
    "from sklearn.linear_model import PassiveAggressiveRegressor\n",
    "from sklearn.svm import SVR\n",
    "reg = SVR()"
   ]
  },
  {
   "cell_type": "code",
   "execution_count": 33,
   "metadata": {},
   "outputs": [],
   "source": [
    "x = np_data"
   ]
  },
  {
   "cell_type": "code",
   "execution_count": 43,
   "metadata": {},
   "outputs": [
    {
     "name": "stdout",
     "output_type": "stream",
     "text": [
      "(31, 2) (23, 2) (8, 2)\n"
     ]
    }
   ],
   "source": [
    "from sklearn.model_selection import train_test_split\n",
    "\n",
    "x_train, x_test, y_train, y_test = train_test_split(x,y)\n",
    "print(x.shape, x_train.shape, x_test.shape)"
   ]
  },
  {
   "cell_type": "code",
   "execution_count": 35,
   "metadata": {},
   "outputs": [
    {
     "name": "stderr",
     "output_type": "stream",
     "text": [
      "/anaconda3/lib/python3.7/site-packages/sklearn/utils/validation.py:724: DataConversionWarning: A column-vector y was passed when a 1d array was expected. Please change the shape of y to (n_samples, ), for example using ravel().\n",
      "  y = column_or_1d(y, warn=True)\n",
      "/anaconda3/lib/python3.7/site-packages/sklearn/svm/base.py:193: FutureWarning: The default value of gamma will change from 'auto' to 'scale' in version 0.22 to account better for unscaled features. Set gamma explicitly to 'auto' or 'scale' to avoid this warning.\n",
      "  \"avoid this warning.\", FutureWarning)\n"
     ]
    },
    {
     "data": {
      "text/plain": [
       "SVR(C=1.0, cache_size=200, coef0=0.0, degree=3, epsilon=0.1,\n",
       "    gamma='auto_deprecated', kernel='rbf', max_iter=-1, shrinking=True,\n",
       "    tol=0.001, verbose=False)"
      ]
     },
     "execution_count": 35,
     "metadata": {},
     "output_type": "execute_result"
    }
   ],
   "source": [
    "reg.fit(x_train, y_train)"
   ]
  },
  {
   "cell_type": "code",
   "execution_count": 36,
   "metadata": {},
   "outputs": [],
   "source": [
    "predicted = reg.predict(x_test)\n",
    "expected = y_test"
   ]
  },
  {
   "cell_type": "code",
   "execution_count": 37,
   "metadata": {},
   "outputs": [
    {
     "data": {
      "text/plain": [
       "array([25.01386215, 23.94607834, 24.05285472, 24.61495274, 24.19555137,\n",
       "       23.64414872, 23.48671352, 23.88883337])"
      ]
     },
     "execution_count": 37,
     "metadata": {},
     "output_type": "execute_result"
    }
   ],
   "source": [
    "predicted"
   ]
  },
  {
   "cell_type": "code",
   "execution_count": 38,
   "metadata": {},
   "outputs": [
    {
     "data": {
      "text/plain": [
       "array([[55.7],\n",
       "       [24.2],\n",
       "       [24.9],\n",
       "       [27.4],\n",
       "       [31.7],\n",
       "       [22.2],\n",
       "       [22.6],\n",
       "       [10.3]])"
      ]
     },
     "execution_count": 38,
     "metadata": {},
     "output_type": "execute_result"
    }
   ],
   "source": [
    "expected"
   ]
  },
  {
   "cell_type": "code",
   "execution_count": 44,
   "metadata": {},
   "outputs": [],
   "source": [
    "reg = PassiveAggressiveRegressor()"
   ]
  },
  {
   "cell_type": "code",
   "execution_count": 45,
   "metadata": {},
   "outputs": [
    {
     "name": "stderr",
     "output_type": "stream",
     "text": [
      "/anaconda3/lib/python3.7/site-packages/sklearn/utils/validation.py:724: DataConversionWarning: A column-vector y was passed when a 1d array was expected. Please change the shape of y to (n_samples, ), for example using ravel().\n",
      "  y = column_or_1d(y, warn=True)\n"
     ]
    },
    {
     "data": {
      "text/plain": [
       "PassiveAggressiveRegressor(C=1.0, average=False, early_stopping=False,\n",
       "                           epsilon=0.1, fit_intercept=True,\n",
       "                           loss='epsilon_insensitive', max_iter=1000,\n",
       "                           n_iter_no_change=5, random_state=None, shuffle=True,\n",
       "                           tol=0.001, validation_fraction=0.1, verbose=0,\n",
       "                           warm_start=False)"
      ]
     },
     "execution_count": 45,
     "metadata": {},
     "output_type": "execute_result"
    }
   ],
   "source": [
    "reg.fit(x_train, y_train)"
   ]
  },
  {
   "cell_type": "code",
   "execution_count": 46,
   "metadata": {},
   "outputs": [],
   "source": [
    "predicted = reg.predict(x_test)\n",
    "expected = y_test"
   ]
  },
  {
   "cell_type": "code",
   "execution_count": 47,
   "metadata": {},
   "outputs": [
    {
     "data": {
      "text/plain": [
       "array([26.97092314, 21.22282796, 29.61889655, 25.27857521, 26.43800716,\n",
       "       31.5531702 , 28.77083552, 25.80130087])"
      ]
     },
     "execution_count": 47,
     "metadata": {},
     "output_type": "execute_result"
    }
   ],
   "source": [
    "predicted"
   ]
  },
  {
   "cell_type": "code",
   "execution_count": 48,
   "metadata": {},
   "outputs": [
    {
     "data": {
      "text/plain": [
       "array([[19.7],\n",
       "       [10.3],\n",
       "       [42.6],\n",
       "       [18.2],\n",
       "       [18.8],\n",
       "       [51. ],\n",
       "       [31.7],\n",
       "       [21. ]])"
      ]
     },
     "execution_count": 48,
     "metadata": {},
     "output_type": "execute_result"
    }
   ],
   "source": [
    "expected"
   ]
  },
  {
   "cell_type": "code",
   "execution_count": 49,
   "metadata": {},
   "outputs": [
    {
     "name": "stdout",
     "output_type": "stream",
     "text": [
      "RMS 13.336487683082805\n"
     ]
    },
    {
     "data": {
      "image/png": "[encoded data removed]",
      "text/plain": [
       "<Figure size 432x288 with 1 Axes>"
      ]
     },
     "metadata": {
      "needs_background": "light"
     },
     "output_type": "display_data"
    }
   ],
   "source": [
    "plt.scatter(expected, predicted)\n",
    "plt.plot([0, 100], [0,100], '-o')\n",
    "plt.axis('tight')\n",
    "plt.xlabel('True Volume')\n",
    "plt.ylabel('Predicted volume')\n",
    "print('RMS', np.sqrt(np.mean((predicted-expected)**2)))"
   ]
  },
  {
   "cell_type": "code",
   "execution_count": null,
   "metadata": {},
   "outputs": [],
   "source": []
  },
  {
   "cell_type": "code",
   "execution_count": null,
   "metadata": {},
   "outputs": [],
   "source": []
  },
  {
   "cell_type": "code",
   "execution_count": null,
   "metadata": {},
   "outputs": [],
   "source": []
  },
  {
   "cell_type": "code",
   "execution_count": null,
   "metadata": {},
   "outputs": [],
   "source": []
  },
  {
   "cell_type": "markdown",
   "metadata": {},
   "source": [
    "# Do it after Numpy 5 and Scipy"
   ]
  },
  {
   "cell_type": "code",
   "execution_count": 27,
   "metadata": {},
   "outputs": [
    {
     "name": "stdout",
     "output_type": "stream",
     "text": [
      "Best fit line: y = 5.06585642284 x -36.9434591246 , r = 0.967119368256\n"
     ]
    },
    {
     "data": {
      "image/png": "[encoded data removed]",
      "text/plain": [
       "<matplotlib.figure.Figure at 0x13a9ef2d0>"
      ]
     },
     "metadata": {},
     "output_type": "display_data"
    }
   ],
   "source": [
    "from scipy.stats import linregress\n",
    "\n",
    "slope, intercept, r, p, stderr = linregress(girths, volumes)\n",
    "\n",
    "print \"Best fit line: y =\", slope, \"x\", intercept, \", r =\",r\n",
    "\n",
    "\n",
    "xvalues = np.linspace(min(girths), max(girths), 200) # this fills the range from min to max with 200 \n",
    "                                                     # equally spaced points\n",
    "yvalues = slope * xvalues + intercept\n",
    "\n",
    "plt.figure()\n",
    "plt.plot(xvalues, yvalues, linewidth=3.0, color='blue', linestyle='solid')\n",
    "plt.scatter(girths, volumes)\n",
    "plt.xlabel(\"Girths\", fontsize=20)\n",
    "plt.ylabel(\"Volumes\", fontsize=20)\n",
    "plt.title(\"Girths versus Volumes of Cherry Trees\", fontsize=20)\n",
    "plt.show()"
   ]
  },
  {
   "cell_type": "markdown",
   "metadata": {},
   "source": [
    "Looks good, but could be better. It looks like it curves downward first. __Could we fit a quadratic?__\n",
    "\n",
    "To do so, we have to use the `scipy.optimize` module's `curve_fit` function, which takes a function, input values, and output values, and returns the optimal parameters in the form `popt`."
   ]
  },
  {
   "cell_type": "code",
   "execution_count": 14,
   "metadata": {},
   "outputs": [
    {
     "name": "stdout",
     "output_type": "stream",
     "text": [
      "Fitted quadratic is 0.2545375695629614 x^2 + -2.0921395939102876 + 10.786265694920928\n"
     ]
    }
   ],
   "source": [
    "from scipy.optimize import curve_fit\n",
    "\n",
    "def quadratic(x, a, b, c):\n",
    "    return  a * x**2 + b * x + c\n",
    "\n",
    "\n",
    "popt, pcov = curve_fit(quadratic, girths, volumes)\n",
    "print (\"Fitted quadratic is\", popt[0], \"x^2 +\", popt[1], \"+\", popt[2])"
   ]
  },
  {
   "cell_type": "code",
   "execution_count": 15,
   "metadata": {},
   "outputs": [
    {
     "ename": "NameError",
     "evalue": "name 'xvalues' is not defined",
     "output_type": "error",
     "traceback": [
      "\u001b[0;31m---------------------------------------------------------------------------\u001b[0m",
      "\u001b[0;31mNameError\u001b[0m                                 Traceback (most recent call last)",
      "\u001b[0;32m<ipython-input-15-e997c35d5435>\u001b[0m in \u001b[0;36m<module>\u001b[0;34m\u001b[0m\n\u001b[0;32m----> 1\u001b[0;31m \u001b[0myvalues_quad\u001b[0m \u001b[0;34m=\u001b[0m \u001b[0;34m[\u001b[0m\u001b[0mquadratic\u001b[0m\u001b[0;34m(\u001b[0m\u001b[0mx\u001b[0m\u001b[0;34m,\u001b[0m \u001b[0mpopt\u001b[0m\u001b[0;34m[\u001b[0m\u001b[0;36m0\u001b[0m\u001b[0;34m]\u001b[0m\u001b[0;34m,\u001b[0m \u001b[0mpopt\u001b[0m\u001b[0;34m[\u001b[0m\u001b[0;36m1\u001b[0m\u001b[0;34m]\u001b[0m\u001b[0;34m,\u001b[0m \u001b[0mpopt\u001b[0m\u001b[0;34m[\u001b[0m\u001b[0;36m2\u001b[0m\u001b[0;34m]\u001b[0m\u001b[0;34m)\u001b[0m \u001b[0;32mfor\u001b[0m \u001b[0mx\u001b[0m \u001b[0;32min\u001b[0m \u001b[0mxvalues\u001b[0m\u001b[0;34m]\u001b[0m\u001b[0;34m\u001b[0m\u001b[0;34m\u001b[0m\u001b[0m\n\u001b[0m\u001b[1;32m      2\u001b[0m \u001b[0mplt\u001b[0m\u001b[0;34m.\u001b[0m\u001b[0mplot\u001b[0m\u001b[0;34m(\u001b[0m\u001b[0mxvalues\u001b[0m\u001b[0;34m,\u001b[0m \u001b[0myvalues_quad\u001b[0m\u001b[0;34m,\u001b[0m \u001b[0mcolor\u001b[0m\u001b[0;34m=\u001b[0m\u001b[0;34m'red'\u001b[0m\u001b[0;34m,\u001b[0m \u001b[0mlinestyle\u001b[0m\u001b[0;34m=\u001b[0m\u001b[0;34m'-'\u001b[0m\u001b[0;34m,\u001b[0m \u001b[0mlabel\u001b[0m\u001b[0;34m=\u001b[0m\u001b[0;34m'Quadratic'\u001b[0m\u001b[0;34m)\u001b[0m\u001b[0;34m\u001b[0m\u001b[0;34m\u001b[0m\u001b[0m\n\u001b[1;32m      3\u001b[0m \u001b[0mplt\u001b[0m\u001b[0;34m.\u001b[0m\u001b[0mplot\u001b[0m\u001b[0;34m(\u001b[0m\u001b[0mxvalues\u001b[0m\u001b[0;34m,\u001b[0m \u001b[0myvalues\u001b[0m\u001b[0;34m,\u001b[0m \u001b[0mlinewidth\u001b[0m\u001b[0;34m=\u001b[0m\u001b[0;36m3.0\u001b[0m\u001b[0;34m,\u001b[0m \u001b[0mcolor\u001b[0m\u001b[0;34m=\u001b[0m\u001b[0;34m'blue'\u001b[0m\u001b[0;34m,\u001b[0m \u001b[0mlinestyle\u001b[0m\u001b[0;34m=\u001b[0m\u001b[0;34m'solid'\u001b[0m\u001b[0;34m,\u001b[0m \u001b[0mlabel\u001b[0m\u001b[0;34m=\u001b[0m\u001b[0;34m'Linear'\u001b[0m\u001b[0;34m)\u001b[0m\u001b[0;34m\u001b[0m\u001b[0;34m\u001b[0m\u001b[0m\n\u001b[1;32m      4\u001b[0m \u001b[0mplt\u001b[0m\u001b[0;34m.\u001b[0m\u001b[0mscatter\u001b[0m\u001b[0;34m(\u001b[0m\u001b[0mgirths\u001b[0m\u001b[0;34m,\u001b[0m \u001b[0mvolumes\u001b[0m\u001b[0;34m)\u001b[0m\u001b[0;34m\u001b[0m\u001b[0;34m\u001b[0m\u001b[0m\n\u001b[1;32m      5\u001b[0m \u001b[0mplt\u001b[0m\u001b[0;34m.\u001b[0m\u001b[0mlegend\u001b[0m\u001b[0;34m(\u001b[0m\u001b[0mloc\u001b[0m\u001b[0;34m=\u001b[0m\u001b[0;34m'best'\u001b[0m\u001b[0;34m)\u001b[0m\u001b[0;31m# this automatically finds the best location for the legend\u001b[0m\u001b[0;34m\u001b[0m\u001b[0;34m\u001b[0m\u001b[0m\n",
      "\u001b[0;31mNameError\u001b[0m: name 'xvalues' is not defined"
     ]
    }
   ],
   "source": [
    "yvalues_quad = [quadratic(x, popt[0], popt[1], popt[2]) for x in xvalues]\n",
    "plt.plot(xvalues, yvalues_quad, color='red', linestyle='-', label='Quadratic')\n",
    "plt.plot(xvalues, yvalues, linewidth=3.0, color='blue', linestyle='solid', label='Linear')\n",
    "plt.scatter(girths, volumes)\n",
    "plt.legend(loc='best')# this automatically finds the best location for the legend\n",
    "plt.show()"
   ]
  },
  {
   "cell_type": "markdown",
   "metadata": {},
   "source": [
    "Cool. We've explored some data and fit two different curves.\n",
    "Now let's try doing some __interpolation__. We'll use the cosine function."
   ]
  },
  {
   "cell_type": "code",
   "execution_count": 16,
   "metadata": {},
   "outputs": [
    {
     "data": {
      "image/png": "[encoded data removed]",
      "text/plain": [
       "<matplotlib.figure.Figure at 0x10e562190>"
      ]
     },
     "metadata": {},
     "output_type": "display_data"
    }
   ],
   "source": [
    "r = 2.0\n",
    "thetas = np.linspace(0, 10, num=11)\n",
    "\n",
    "x = r * np.cos(thetas)\n",
    "plt.scatter(thetas, x)\n",
    "plt.xlabel(\"Theta\", fontsize=20)\n",
    "plt.ylabel(\"Cos(Theta)\", fontsize=20)\n",
    "plt.show()"
   ]
  },
  {
   "cell_type": "markdown",
   "metadata": {},
   "source": [
    "The `interp1d` function returns a function that you can call \n",
    "You can choose the type of interpolation to perform between points. By default, it's linear, but you can also fit higher order polyomials, which will fit the data better."
   ]
  },
  {
   "cell_type": "code",
   "execution_count": 17,
   "metadata": {
    "collapsed": true
   },
   "outputs": [],
   "source": [
    "from scipy.interpolate import interp1d\n",
    "f = interp1d(thetas, x)\n",
    "f2 = interp1d(thetas, x, kind='cubic')"
   ]
  },
  {
   "cell_type": "code",
   "execution_count": 18,
   "metadata": {},
   "outputs": [
    {
     "data": {
      "image/png": "[encoded data removed]",
      "text/plain": [
       "<matplotlib.figure.Figure at 0x10eaaa7d0>"
      ]
     },
     "metadata": {},
     "output_type": "display_data"
    }
   ],
   "source": [
    "# These give functions\n",
    "new_thetas = np.linspace(0, 10, num=51)\n",
    "plt.plot(thetas, x, 'o', new_thetas , f(new_thetas ), '-', new_thetas,  f2(new_thetas), '--', linewidth=2.0)\n",
    "plt.legend(['data', 'linear', 'cubic'], loc='best')\n",
    "plt.xlabel(\"Theta\", fontsize=20)\n",
    "plt.ylabel(\"Cos(Theta)\", fontsize=20)\n",
    "plt.show()"
   ]
  }
 ],
 "metadata": {
  "kernelspec": {
   "display_name": "Python 3",
   "language": "python",
   "name": "python3"
  },
  "language_info": {
   "codemirror_mode": {
    "name": "ipython",
    "version": 3
   },
   "file_extension": ".py",
   "mimetype": "text/x-python",
   "name": "python",
   "nbconvert_exporter": "python",
   "pygments_lexer": "ipython3",
   "version": "3.7.3"
  }
 },
 "nbformat": 4,
 "nbformat_minor": 1
}
